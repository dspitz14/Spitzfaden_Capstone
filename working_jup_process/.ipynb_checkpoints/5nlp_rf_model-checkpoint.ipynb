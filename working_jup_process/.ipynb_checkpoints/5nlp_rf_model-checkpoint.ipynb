{
 "cells": [
  {
   "cell_type": "code",
   "execution_count": 1,
   "metadata": {
    "collapsed": true
   },
   "outputs": [],
   "source": [
    "import pandas as pd\n",
    "import numpy as np\n",
    "from sklearn.model_selection import train_test_split\n",
    "from sklearn.feature_extraction.text import TfidfVectorizer\n",
    "from sklearn.feature_extraction.text import TfidfTransformer\n",
    "from sklearn.feature_extraction.text import CountVectorizer\n",
    "from sklearn.naive_bayes import MultinomialNB\n",
    "from nltk.tokenize import word_tokenize\n",
    "from nltk.corpus import stopwords\n",
    "from nltk.stem.snowball import SnowballStemmer\n",
    "from sklearn.ensemble import RandomForestClassifier\n",
    "from sklearn.metrics import confusion_matrix\n",
    "from sklearn.feature_selection import chi2\n",
    "\n",
    "import matplotlib.pyplot as plt\n",
    "plt.style.use('fivethirtyeight')\n",
    "%matplotlib inline"
   ]
  },
  {
   "cell_type": "code",
   "execution_count": 19,
   "metadata": {
    "collapsed": true
   },
   "outputs": [],
   "source": [
    "df = pd.read_csv('/Users/dspitzfaden/Galvanize/capstone/data/new_reviews_inspection_period.csv')\n",
    "df= df[df['inspection_grade']!='X']\n",
    "df['A'] = np.where(df['inspection_grade']== 'A', 1, 0) #1 is A, 0 is B or C\n",
    "df['B'] = np.where(df['inspection_grade']== 'B', 1, 0)\n",
    "df['C'] = np.where(df['inspection_grade']== 'C', 1, 0)\n",
    "\n",
    "grade_df= df[['yelp_business_id', 'inspection_date', 'last_inspection','inspection_grade']].reset_index().sort_values(['yelp_business_id', 'inspection_date', 'last_inspection']).reset_index()\n",
    "grade_df= grade_df.drop_duplicates(['yelp_business_id', 'inspection_date', 'last_inspection'])\n",
    "grade_df['A'] = np.where(grade_df['inspection_grade']== 'A', 1, 0) #1 is A, 0 is B or C\n",
    "\n",
    "\n",
    "grouped_text= df.groupby(['yelp_business_id', 'inspection_date', 'last_inspection'])['yelp_review_text'].apply(lambda x: \"{%s}\" % '~~ '.join(x)).reset_index().sort_values(['yelp_business_id', 'inspection_date', 'last_inspection'])"
   ]
  },
  {
   "cell_type": "code",
   "execution_count": null,
   "metadata": {
    "collapsed": true
   },
   "outputs": [],
   "source": [
    "count_vectorizer = CountVectorizer(max_df=0.95, min_df=2, max_features=10000, stop_words='english', ngram_range=(2,2))\n",
    "tfidf = count_vectorizer.fit_transform(grouped_text['yelp_review_text'].values)\n",
    "features= count_vectorizer.vocabulary_"
   ]
  },
  {
   "cell_type": "code",
   "execution_count": null,
   "metadata": {
    "collapsed": true
   },
   "outputs": [],
   "source": [
    "X_train, X_test, y_train, y_test = train_test_split(tfidf, grade_df['A'].values,\\\n",
    "                                                    test_size=0.2)"
   ]
  },
  {
   "cell_type": "code",
   "execution_count": null,
   "metadata": {},
   "outputs": [],
   "source": [
    "rf = RandomForestClassifier(class_weight=\"balanced\", max_depth=6).fit(X_train, y_train)\n",
    "rf_pred= rf.predict(X_test)\n",
    "rf_tn, rf_fp, rf_fn, rf_tp = confusion_matrix(rf_pred, y_test).ravel()\n",
    "precision, recall = (rf_tp / (rf_tp+rf_fp)), (rf_tp/(rf_tp+rf_fn))\n",
    "print('RF Precision: {}   RF Recall: {}'.format(precision, recall))"
   ]
  },
  {
   "cell_type": "code",
   "execution_count": null,
   "metadata": {},
   "outputs": [],
   "source": [
    "chi2_nlp = chi2(tfidf, grade_df['A'].values)"
   ]
  },
  {
   "cell_type": "code",
   "execution_count": null,
   "metadata": {
    "collapsed": true
   },
   "outputs": [],
   "source": [
    "chi2_score = list(chi2[0])\n",
    "p_val = list(chi2[1])"
   ]
  },
  {
   "cell_type": "code",
   "execution_count": null,
   "metadata": {},
   "outputs": [],
   "source": [
    "vocab_chi = zip(features, chi2_score)\n",
    "vocab_p_val = zip(features, p_val)\n",
    "\n",
    "sorted_chi= sorted(vocab_chi, key=lambda x: x[1], reverse= True)\n",
    "sorted_p_val = sorted(vocab_p_val, key=lambda x: x[1])"
   ]
  },
  {
   "cell_type": "code",
   "execution_count": null,
   "metadata": {},
   "outputs": [],
   "source": [
    "sorted_chi"
   ]
  },
  {
   "cell_type": "code",
   "execution_count": null,
   "metadata": {},
   "outputs": [],
   "source": [
    "sorted_p_val"
   ]
  },
  {
   "cell_type": "code",
   "execution_count": 9,
   "metadata": {},
   "outputs": [],
   "source": [
    "grade_chiscore = chi2(df[['A', 'B','C']].values, df['yelp_review_stars'].values)[0]\n",
    "grade_chipval = chi2(df[['A', 'B', 'C']].values, df['yelp_review_stars'].values)[1]"
   ]
  },
  {
   "cell_type": "code",
   "execution_count": 10,
   "metadata": {},
   "outputs": [
    {
     "data": {
      "text/plain": [
       "array([ 14.67799455,  55.45841776,  73.59540923])"
      ]
     },
     "execution_count": 10,
     "metadata": {},
     "output_type": "execute_result"
    }
   ],
   "source": [
    "grade_chiscore"
   ]
  },
  {
   "cell_type": "code",
   "execution_count": 11,
   "metadata": {},
   "outputs": [
    {
     "data": {
      "text/plain": [
       "array([  5.41786044e-03,   2.60424154e-11,   3.94843840e-15])"
      ]
     },
     "execution_count": 11,
     "metadata": {},
     "output_type": "execute_result"
    }
   ],
   "source": [
    "grade_chipval"
   ]
  },
  {
   "cell_type": "code",
   "execution_count": 29,
   "metadata": {},
   "outputs": [
    {
     "data": {
      "text/plain": [
       "3.5533238702092933"
      ]
     },
     "execution_count": 29,
     "metadata": {},
     "output_type": "execute_result"
    }
   ],
   "source": [
    "a_df = df[df['A']==1]\n",
    "a_df['yelp_review_stars'].mean()"
   ]
  },
  {
   "cell_type": "code",
   "execution_count": 30,
   "metadata": {},
   "outputs": [
    {
     "data": {
      "text/plain": [
       "3.5955624628000793"
      ]
     },
     "execution_count": 30,
     "metadata": {},
     "output_type": "execute_result"
    }
   ],
   "source": [
    "b_df = df[df['B']==1]\n",
    "b_df['yelp_review_stars'].mean()"
   ]
  },
  {
   "cell_type": "code",
   "execution_count": 31,
   "metadata": {},
   "outputs": [
    {
     "data": {
      "text/plain": [
       "3.6746693794506613"
      ]
     },
     "execution_count": 31,
     "metadata": {},
     "output_type": "execute_result"
    }
   ],
   "source": [
    "c_df = df[df['C']==1]\n",
    "c_df['yelp_review_stars'].mean()"
   ]
  },
  {
   "cell_type": "code",
   "execution_count": null,
   "metadata": {
    "collapsed": true
   },
   "outputs": [],
   "source": []
  }
 ],
 "metadata": {
  "kernelspec": {
   "display_name": "Python 3",
   "language": "python",
   "name": "python3"
  },
  "language_info": {
   "codemirror_mode": {
    "name": "ipython",
    "version": 3
   },
   "file_extension": ".py",
   "mimetype": "text/x-python",
   "name": "python",
   "nbconvert_exporter": "python",
   "pygments_lexer": "ipython3",
   "version": "3.6.4"
  }
 },
 "nbformat": 4,
 "nbformat_minor": 2
}
