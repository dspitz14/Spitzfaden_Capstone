{
 "cells": [
  {
   "cell_type": "code",
   "execution_count": 18,
   "metadata": {
    "collapsed": true
   },
   "outputs": [],
   "source": [
    "import pandas as pd\n",
    "import numpy as np\n",
    "from sklearn.model_selection import train_test_split\n",
    "from sklearn.feature_extraction.text import TfidfVectorizer\n",
    "from sklearn.feature_extraction.text import TfidfTransformer\n",
    "from sklearn.feature_extraction.text import CountVectorizer\n",
    "from sklearn.naive_bayes import MultinomialNB\n",
    "from nltk.tokenize import word_tokenize\n",
    "from nltk.corpus import stopwords\n",
    "from nltk.stem.snowball import SnowballStemmer\n",
    "from sklearn.ensemble import RandomForestClassifier\n",
    "from sklearn.metrics import confusion_matrix\n",
    "from scipy.stats import chisquare\n",
    "\n",
    "\n",
    "import matplotlib.pyplot as plt\n",
    "plt.style.use('fivethirtyeight')\n",
    "%matplotlib inline"
   ]
  },
  {
   "cell_type": "code",
   "execution_count": 3,
   "metadata": {},
   "outputs": [],
   "source": [
    "df = pd.read_csv('/Users/dspitzfaden/Galvanize/capstone/data_files/yelp_reviews_with_period.csv')\n",
    "df= df[df['inspection_grade']!='X']\n",
    "df['A'] = np.where(df['inspection_grade']== 'A', 1, 0) #1 is A, 0 is B or C\n",
    "df['B'] = np.where(df['inspection_grade']== 'B', 1, 0)\n",
    "df['C'] = np.where(df['inspection_grade']== 'C', 1, 0)\n",
    "\n",
    "grade_df= df[['yelp_business_id', 'inspection_date', 'last_inspection','inspection_grade']].reset_index().sort_values(['yelp_business_id', 'inspection_date', 'last_inspection']).reset_index()\n",
    "grade_df= grade_df.drop_duplicates(['yelp_business_id', 'inspection_date', 'last_inspection'])\n",
    "grade_df['A'] = np.where(grade_df['inspection_grade']== 'A', 1, 0) #1 is A, 0 is B or C\n",
    "\n",
    "\n",
    "grouped_text= df.groupby(['yelp_business_id', 'inspection_date', 'last_inspection'])['yelp_review_text'].apply(lambda x: \"{%s}\" % '~~ '.join(x)).reset_index().sort_values(['yelp_business_id', 'inspection_date', 'last_inspection'])"
   ]
  },
  {
   "cell_type": "code",
   "execution_count": 3,
   "metadata": {
    "collapsed": true
   },
   "outputs": [],
   "source": [
    "count_vectorizer = CountVectorizer(max_df=0.95, min_df=2, max_features=10000, stop_words='english', ngram_range=(2,2))\n",
    "tfidf = count_vectorizer.fit_transform(grouped_text['yelp_review_text'].values)\n",
    "features= count_vectorizer.vocabulary_"
   ]
  },
  {
   "cell_type": "code",
   "execution_count": 4,
   "metadata": {
    "collapsed": true
   },
   "outputs": [],
   "source": [
    "X_train, X_test, y_train, y_test = train_test_split(tfidf, grade_df['A'].values,\\\n",
    "                                                    test_size=0.2)"
   ]
  },
  {
   "cell_type": "code",
   "execution_count": 5,
   "metadata": {},
   "outputs": [
    {
     "name": "stdout",
     "output_type": "stream",
     "text": [
      "RF Precision: 0.7995933778681382   RF Recall: 0.8714783159227604\n"
     ]
    }
   ],
   "source": [
    "rf = RandomForestClassifier(class_weight=\"balanced\", max_depth=6).fit(X_train, y_train)\n",
    "rf_pred= rf.predict(X_test)\n",
    "rf_tn, rf_fp, rf_fn, rf_tp = confusion_matrix(rf_pred, y_test).ravel()\n",
    "precision, recall = (rf_tp / (rf_tp+rf_fp)), (rf_tp/(rf_tp+rf_fn))\n",
    "print('RF Precision: {}   RF Recall: {}'.format(precision, recall))"
   ]
  },
  {
   "cell_type": "code",
   "execution_count": 13,
   "metadata": {
    "collapsed": true
   },
   "outputs": [],
   "source": [
    "chi2_nlp = chi2(tfidf, grade_df['inspection_grade'].values)"
   ]
  },
  {
   "cell_type": "code",
   "execution_count": 14,
   "metadata": {
    "collapsed": true
   },
   "outputs": [],
   "source": [
    "chi_vocab_score = list(chi2_nlp[0])\n",
    "p_val = list(chi2_nlp[1])"
   ]
  },
  {
   "cell_type": "code",
   "execution_count": 21,
   "metadata": {
    "collapsed": true
   },
   "outputs": [],
   "source": [
    "vocab_chi = zip(features, chi_vocab_score)\n",
    "vocab_p_val = zip(features, p_val)\n",
    "\n",
    "sorted_chi= sorted(vocab_chi, key=lambda x: x[1], reverse= True)\n",
    "sorted_p_val = sorted(vocab_p_val, key=lambda x: x[1], reverse= False)"
   ]
  },
  {
   "cell_type": "code",
   "execution_count": null,
   "metadata": {
    "collapsed": true
   },
   "outputs": [],
   "source": []
  },
  {
   "cell_type": "code",
   "execution_count": 16,
   "metadata": {
    "collapsed": true
   },
   "outputs": [],
   "source": [
    "ac_chisq, ac_p = chisquare(ccounts, acounts)"
   ]
  },
  {
   "cell_type": "code",
   "execution_count": 17,
   "metadata": {},
   "outputs": [
    {
     "data": {
      "text/plain": [
       "0.022424034482787285"
      ]
     },
     "execution_count": 17,
     "metadata": {},
     "output_type": "execute_result"
    }
   ],
   "source": [
    "ac_chisq"
   ]
  },
  {
   "cell_type": "code",
   "execution_count": null,
   "metadata": {
    "collapsed": true
   },
   "outputs": [],
   "source": []
  },
  {
   "cell_type": "code",
   "execution_count": null,
   "metadata": {
    "collapsed": true
   },
   "outputs": [],
   "source": []
  },
  {
   "cell_type": "code",
   "execution_count": 11,
   "metadata": {
    "collapsed": true
   },
   "outputs": [],
   "source": [
    "bc_chisq, bc_p = chisquare(ccounts, bcounts)"
   ]
  },
  {
   "cell_type": "code",
   "execution_count": 12,
   "metadata": {
    "collapsed": true
   },
   "outputs": [],
   "source": [
    "ba_chisq, ba_p = chisquare(acounts, bcounts)"
   ]
  },
  {
   "cell_type": "code",
   "execution_count": 13,
   "metadata": {},
   "outputs": [
    {
     "data": {
      "text/plain": [
       "0.99994480134810815"
      ]
     },
     "execution_count": 13,
     "metadata": {},
     "output_type": "execute_result"
    }
   ],
   "source": [
    "bc_p"
   ]
  },
  {
   "cell_type": "code",
   "execution_count": 14,
   "metadata": {},
   "outputs": [
    {
     "data": {
      "text/plain": [
       "0.99999932468375019"
      ]
     },
     "execution_count": 14,
     "metadata": {},
     "output_type": "execute_result"
    }
   ],
   "source": [
    "ba_p"
   ]
  },
  {
   "cell_type": "code",
   "execution_count": null,
   "metadata": {
    "collapsed": true
   },
   "outputs": [],
   "source": []
  }
 ],
 "metadata": {
  "kernelspec": {
   "display_name": "Python 3",
   "language": "python",
   "name": "python3"
  },
  "language_info": {
   "codemirror_mode": {
    "name": "ipython",
    "version": 3
   },
   "file_extension": ".py",
   "mimetype": "text/x-python",
   "name": "python",
   "nbconvert_exporter": "python",
   "pygments_lexer": "ipython3",
   "version": "3.6.4"
  }
 },
 "nbformat": 4,
 "nbformat_minor": 2
}
